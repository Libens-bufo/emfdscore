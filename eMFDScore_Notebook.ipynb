{
 "cells": [
  {
   "cell_type": "code",
   "execution_count": null,
   "id": "e0d93bac-5fd4-4b0e-a00a-ec80384f3fd9",
   "metadata": {},
   "outputs": [
    {
     "name": "stderr",
     "output_type": "stream",
     "text": [
      "Processed: 0   0% |                      | Elapsed Time: 0:00:00 ETA:  --:--:--\n",
      "Processed: 8  40% |❤❤❤❤❤❤❤❤              | Elapsed Time: 0:00:00 ETA:   0:00:00\n",
      "Processed: 14  70% |❤❤❤❤❤❤❤❤❤❤❤❤❤❤       | Elapsed Time: 0:00:00 ETA:   0:00:00\n",
      "Processed: 20 100% |❤❤❤❤❤❤❤❤❤❤❤❤❤❤❤❤❤❤❤❤❤| Elapsed Time: 0:00:00 Time:  0:00:00\n",
      "Processed: 0   0% |                      | Elapsed Time: 0:00:00 ETA:  --:--:--\n",
      "Processed: 8  40% |❤❤❤❤❤❤❤❤              | Elapsed Time: 0:00:00 ETA:   0:00:00\n",
      "Processed: 13  65% |❤❤❤❤❤❤❤❤❤❤❤❤❤        | Elapsed Time: 0:00:00 ETA:   0:00:00\n",
      "Processed: 19  95% |❤❤❤❤❤❤❤❤❤❤❤❤❤❤❤❤❤❤❤  | Elapsed Time: 0:00:00 ETA:   0:00:00\n",
      "Processed: 20 100% |❤❤❤❤❤❤❤❤❤❤❤❤❤❤❤❤❤❤❤❤❤| Elapsed Time: 0:00:00 Time:  0:00:00\n"
     ]
    },
    {
     "ename": "",
     "evalue": "",
     "output_type": "error",
     "traceback": [
      "\u001b[1;31mCanceled future for execute_request message before replies were done"
     ]
    },
    {
     "ename": "",
     "evalue": "",
     "output_type": "error",
     "traceback": [
      "\u001b[1;31mThe Kernel crashed while executing code in the the current cell or a previous cell. Please review the code in the cell(s) to identify a possible cause of the failure. Click <a href='https://aka.ms/vscodeJupyterKernelCrash'>here</a> for more info. View Jupyter <a href='command:jupyter.viewOutput'>log</a> for further details."
     ]
    }
   ],
   "source": [
    "exec(open(\"emfdscoregui.py\").read())"
   ]
  }
 ],
 "metadata": {
  "kernelspec": {
   "display_name": "Python 3.9.12 ('emfd')",
   "language": "python",
   "name": "python3"
  },
  "language_info": {
   "codemirror_mode": {
    "name": "ipython",
    "version": 3
   },
   "file_extension": ".py",
   "mimetype": "text/x-python",
   "name": "python",
   "nbconvert_exporter": "python",
   "pygments_lexer": "ipython3",
   "version": "3.9.12"
  },
  "vscode": {
   "interpreter": {
    "hash": "cb1649eeb9e188b2639e3950e3b32e9693eb1ca771f2ea45b06cc2e5a4aaed02"
   }
  }
 },
 "nbformat": 4,
 "nbformat_minor": 5
}
