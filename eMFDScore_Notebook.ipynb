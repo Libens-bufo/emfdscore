{
 "cells": [
  {
   "cell_type": "code",
   "execution_count": 1,
   "id": "c8f41112",
   "metadata": {},
   "outputs": [],
   "source": [
    "exec(open(\"gui/eMFDScore_GUI.py\").read())"
   ]
  },
  {
   "cell_type": "code",
   "execution_count": null,
   "id": "6513ef13",
   "metadata": {},
   "outputs": [],
   "source": []
  }
 ],
 "metadata": {
  "kernelspec": {
   "display_name": "Python 3.9.12 ('emfd')",
   "language": "python",
   "name": "python3"
  },
  "language_info": {
   "codemirror_mode": {
    "name": "ipython",
    "version": 3
   },
   "file_extension": ".py",
   "mimetype": "text/x-python",
   "name": "python",
   "nbconvert_exporter": "python",
   "pygments_lexer": "ipython3",
   "version": "3.9.12"
  },
  "vscode": {
   "interpreter": {
    "hash": "cb1649eeb9e188b2639e3950e3b32e9693eb1ca771f2ea45b06cc2e5a4aaed02"
   }
  }
 },
 "nbformat": 4,
 "nbformat_minor": 5
}
