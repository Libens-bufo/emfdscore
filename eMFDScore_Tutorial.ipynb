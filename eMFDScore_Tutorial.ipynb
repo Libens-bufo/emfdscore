{
 "cells": [
  {
   "cell_type": "markdown",
   "metadata": {},
   "source": [
    "# eMFDscore Tutorial"
   ]
  },
  {
   "cell_type": "markdown",
   "metadata": {},
   "source": [
    "© Frederic R. Hopp  \n",
    "Media Neuroscience Lab  \n",
    "October 2020"
   ]
  },
  {
   "cell_type": "markdown",
   "metadata": {},
   "source": [
    "***"
   ]
  },
  {
   "cell_type": "markdown",
   "metadata": {},
   "source": [
    "This notebook provides a tutorial on how to use eMFDScore for extracing various moral information  \n",
    "metrics from texutal input.  \n",
    "Specifically, this tutorial guides the reader how to effectively use the eMFDScore command-line tool  \n",
    "and which scoring options are appropriate for particular tasks.  \n",
    "For more detailed background information on the eMFD, please consult the respective [publication](https://link.springer.com/article/10.3758/s13428-020-01433-0).\n",
    "\n",
    "Finally, when using eMFDscore, please consider \"starring\" the Github repository and citing the follwing article: \n",
    "\n",
    "Hopp, F. R., Fisher, J. T., Cornell, D., Huskey, R., & Weber, R. (2020). The extended Moral Foundations Dictionary (eMFD):  \n",
    "Development and applications of a crowd-sourced approach to extracting moral intuitions from text.   \n",
    "_Behavior Research Methods_, https://doi.org/10.3758/s13428-020-01433-0"
   ]
  },
  {
   "cell_type": "markdown",
   "metadata": {},
   "source": [
    "***"
   ]
  },
  {
   "cell_type": "markdown",
   "metadata": {},
   "source": [
    "## 1. Set-up Your Environment"
   ]
  },
  {
   "cell_type": "markdown",
   "metadata": {},
   "source": [
    "eMFDscore requires a Python installation (v3.7+). If your machine does not have Python installed,  \n",
    "we recommend installing Python by downloading and installing either Anaconda or Miniconda for your OS.\n",
    "\n",
    "For best practises, we recommend installing eMFDscore into a virtual conda environment.  \n",
    "Hence, you should first create a virtual environment by executing the following command in your terminal:\n",
    "\n",
    "`$ conda create -n emfd python=3.7` \n",
    "\n",
    "Once Anaconda/Miniconda is installed activate the env via:\n",
    "\n",
    "`$ source activate emfd`\n",
    "\n",
    "Next, you must install spaCy, which is the main natural language processing backend that eMFDscore is built on:\n",
    "\n",
    "`$ conda install -c conda-forge spacy`  \n",
    "`$ python -m spacy download en_core_web_sm`\n",
    "\n",
    "Finally, you can install eMFDscore by copying, pasting, and executing the following command:\n",
    "\n",
    "`pip install https://github.com/medianeuroscience/emfdscore/archive/master.zip`"
   ]
  },
  {
   "cell_type": "markdown",
   "metadata": {},
   "source": [
    "## 2. Using eMFDScore"
   ]
  },
  {
   "cell_type": "markdown",
   "metadata": {},
   "source": [
    "eMFDScore is a command-line tool, meaning it is designed to be executed from a UNIX shell.  \n",
    "However, it can also be executed from inside jupyter-notebooks using the respective cell magic below.  \n",
    "In this tutorial, we will load a few packages to inspect the output of eMFDScore's computed metrics.  \n",
    "These packages must be installed/available in your conda environment, but are not necessary for  \n",
    "eMFDscore to run properly. "
   ]
  },
  {
   "cell_type": "code",
   "execution_count": 1,
   "metadata": {},
   "outputs": [],
   "source": [
    "import pandas as pd \n",
    "import numpy as np\n",
    "import seaborn as sns\n",
    "from matplotlib import pyplot as plt"
   ]
  },
  {
   "cell_type": "markdown",
   "metadata": {},
   "source": [
    "### Options for Document Scoring"
   ]
  },
  {
   "cell_type": "markdown",
   "metadata": {},
   "source": [
    "With eMFDScore, you have several options to extract moral information metrics from texutal corpora.   \n",
    "Below, we go over these options one by one.  \n",
    "\n",
    "When scoring documents with the extended Moral Foundations Dicitonary (eMFD; default in eMFDScore),  \n",
    "you must decide how you would like to use the eMFD for scoring textual documents.  \n",
    "\n",
    "As a reminder, in the eMFD, every of the 3020 words is assigned the following scores: \n",
    "- `Foundation Probabilities`: Each word is assigned 5 probabalities that denote the likelihood  \n",
    "that this word is associated with each one of the five moral foundations as identified by Moral  \n",
    "Foundations  Theory. For example, the word \"kill\" has an average care probability of 0.4, meaning   \n",
    "that there is a  40% chance that a coder highlighted a context in which the word \"kill\" appeared  \n",
    "with the care-harm foundation.\n",
    "\n",
    "- `Sentiment Scores`: Each word is assigned 5 sentiment scores that denote the average sentiment  \n",
    "of the foundation context in which this word appeared. For example, the word \"kill\" has an average  \n",
    "\"care_sent\" of -0.69, meaning that all \"care-harm\" highlights in which \"kill\" appeared had an average,  \n",
    "negative sentiment of -0.69.\n",
    "\n",
    "***\n",
    "\n",
    "Based on these scores, there are two options how these scores can be \"mapped\" when scoring a  \n",
    "document (flag `prob_map` below):\n",
    "\n",
    "1. Use `all` probabilities per word in the eMFD (option `all`) \n",
    "2. Assign a `single`  probability to each word in the eMFD according  \n",
    "to the foundation with the highest  probability (option `single`) \n",
    "\n",
    "***\n",
    "\n",
    "In addition, you can decide whether you want eMFDScore to return the average sentiment for each  \n",
    "foundation, or whether you would like eMFDScore to split each foundation  \n",
    "into a `vice` and `virtue`  category (flag `output_metrics` below):\n",
    "\n",
    "1. Return the average `sentiment ` for each foundation (option `sentiment`) \n",
    "2. Split foundations into a `vice-virtue` category (option `vice-virtue`). \n",
    "\n",
    "The vice-virtue split is accomplished by considering the average sentiment of each foundation of each  \n",
    "word, and then assigning this word to \"virtue\" if the foundation sentiment is positive,  \n",
    "or to \"vice\" if the sentiment is negative.  \n",
    "For instance, if using the `all` option for the `prob_map` option above, a word's foundation probabilities  \n",
    "will be translated into five `virtue` scores (e.g., care, fairness,  loyalty, authority, and sanctity)   \n",
    "if the word's sentiment for these foundations is positive, whereas a word  whose sentiments for each  \n",
    "foundation is negative will be assigned five `vice` scores (e.g., harm, cheating,  betrayal, subversion, and degradation). \n",
    "\n",
    "***\n",
    "\n",
    "Based on the above, there is a total of 4 different options how the eMFD can be used.  \n",
    "The specific usage of each and use case is explicated below. "
   ]
  },
  {
   "cell_type": "markdown",
   "metadata": {},
   "source": [
    "#### eMFDScore Command-Line Options"
   ]
  },
  {
   "cell_type": "markdown",
   "metadata": {},
   "source": [
    "A typical command for eMFDScore especifies the following:\n",
    "\n",
    "`$ emfdscore [INPUT_FILE][OUTPUT_FILE][SCORING_METHOD][DICT_TYPE]`"
   ]
  },
  {
   "cell_type": "markdown",
   "metadata": {},
   "source": [
    "When using eMFDscore, several inputs need to be defined in a specific order: \n",
    "\n",
    "- [INPUT_FILE]: = The path to a CSV file in which the first column contains the document texts to be scored.  \n",
    "  Each row should reflect its own document. See the template_input.csv for an example file format.\n",
    "  \n",
    "  \n",
    "- [OUTPUT_FILE] = Specifies the file name of the generated output csv.\n",
    "\n",
    "\n",
    "- [SCORING_METHOD] = Currently, eMFDscore employs three different scoring algorithms:\n",
    "    - `bow` is a classical Bag-of-Words approach in which the algorithm simply searches for word matches between document texts and the specified dictionary.\n",
    "    - `pat` relies on named entity recognition and syntactic dependency parsing. For each document, the algorithm first extracts all mentioned entities. Next, for each entitiy, eMFDscore extracts words that pertain to 1) moral verbs for which the entity is an agent argument (Agent verbs), 2) moral verbs for which the entity is the patient, theme, or other argument (Patient verbs), and other moral attributes (i.e., adjectival modifiers, appositives, etc.).\n",
    "    - `wordlist` is a simple scoring algorithm that lets users examine the moral content of individual words. This scoring method expects a CSV where each row corresponds to a unique word. Note: The wordlist scoring algorithm does not perform any tokenization or preprocessing on the wordlists. For a more fine-grained moral content extraction, users are encouraged to use either the bow or path methodology. Furthermore, only the emfd is currenlty supported for PAT extraction. Additionally, this method is more computationally expensive and thus has a longer execution time.\n",
    "    - `gdelt.ngrams` is designed for the Global Database of Events, Language, and Tone Television Ngram dataset. This scoring method expects a unigram (1gram) input text file from GDELT and will score each unprocessed (untokenized) unigram with the eMFD.\n",
    "    \n",
    "    \n",
    "- [DICTIONARY_TYPE] = Declares which dictionary is applied to score documents. In its current version, eMFDscore lets users choose between three dictionaries:\n",
    "    - `emfd` = extended Moral Foundations Dictionary (eMFD)\n",
    "    - `mfd2` = Moral Foundations Dicitonary 2.0 (Frimer et al., 2017; https://osf.io/xakyw/ )\n",
    "    - `mfd` = original Moral Foundations Dictionary (https://moralfoundations.org/othermaterials)\n",
    "\n",
    "\n",
    "- When choosing the eMFD; the following two additional flags need to be defined:\n",
    "    - [PROB_MAP]: How are the foundation probabilities mapped when scoring a document? \n",
    "        - `all` : use all probabilities per word in the eMFD\n",
    "        - `single`: Assign a single probability to each word in the eMFD according to the foundation with the highest probability\n",
    "           \n",
    "    - [OUTPUT_METRICS]: Which metrics are returned? \n",
    "        - `sentiment`: Return the average sentiment for each foundation\n",
    "        - `vice-virtue`: Split foundations into a vice-virtue category"
   ]
  },
  {
   "cell_type": "markdown",
   "metadata": {},
   "source": [
    "#### Scoring Documents with the eMFD"
   ]
  },
  {
   "cell_type": "markdown",
   "metadata": {},
   "source": [
    "Below, we illustrate the various text scoring options in eMFDscore.  \n",
    "For this purpose, we will be using a CSV file in which each row corresponds to  \n",
    "a news article text. "
   ]
  },
  {
   "cell_type": "code",
   "execution_count": 2,
   "metadata": {},
   "outputs": [
    {
     "data": {
      "text/html": [
       "<div>\n",
       "<style scoped>\n",
       "    .dataframe tbody tr th:only-of-type {\n",
       "        vertical-align: middle;\n",
       "    }\n",
       "\n",
       "    .dataframe tbody tr th {\n",
       "        vertical-align: top;\n",
       "    }\n",
       "\n",
       "    .dataframe thead th {\n",
       "        text-align: right;\n",
       "    }\n",
       "</style>\n",
       "<table border=\"1\" class=\"dataframe\">\n",
       "  <thead>\n",
       "    <tr style=\"text-align: right;\">\n",
       "      <th></th>\n",
       "      <th>0</th>\n",
       "    </tr>\n",
       "  </thead>\n",
       "  <tbody>\n",
       "    <tr>\n",
       "      <th>0</th>\n",
       "      <td>The Iraqi government's assault to retake the c...</td>\n",
       "    </tr>\n",
       "    <tr>\n",
       "      <th>1</th>\n",
       "      <td>WASHINGTON -- North Korea now has the capabili...</td>\n",
       "    </tr>\n",
       "    <tr>\n",
       "      <th>2</th>\n",
       "      <td>TEL AVIV – An Egyptian journalist wrote an op-...</td>\n",
       "    </tr>\n",
       "    <tr>\n",
       "      <th>3</th>\n",
       "      <td>What was life like for Russians such as Tsar N...</td>\n",
       "    </tr>\n",
       "    <tr>\n",
       "      <th>4</th>\n",
       "      <td>President Obama's former national security adv...</td>\n",
       "    </tr>\n",
       "  </tbody>\n",
       "</table>\n",
       "</div>"
      ],
      "text/plain": [
       "                                                   0\n",
       "0  The Iraqi government's assault to retake the c...\n",
       "1  WASHINGTON -- North Korea now has the capabili...\n",
       "2  TEL AVIV – An Egyptian journalist wrote an op-...\n",
       "3  What was life like for Russians such as Tsar N...\n",
       "4  President Obama's former national security adv..."
      ]
     },
     "execution_count": 2,
     "metadata": {},
     "output_type": "execute_result"
    }
   ],
   "source": [
    "template_input = pd.read_csv('template_input.csv', header=None)\n",
    "template_input.head()"
   ]
  },
  {
   "cell_type": "markdown",
   "metadata": {},
   "source": [
    "#### 1. Use All Probabilities per Word and Return Sentiment Scores "
   ]
  },
  {
   "cell_type": "markdown",
   "metadata": {},
   "source": [
    "This option should be used when one wants to extract the overall, holistic moral signal from a document.  \n",
    "Note that because each word is assigned five foundation probabilities, there exist higher correlations  \n",
    "across these foundations, making this method less suitable when one wants to\n",
    "- use the foundation probabilities as predictor variables in statistical models\n",
    "- discriminate which foundations are more or less represented in a text.  \n",
    "\n",
    "For these cases, options (2) and (4) below  should be preferred. "
   ]
  },
  {
   "cell_type": "code",
   "execution_count": 3,
   "metadata": {},
   "outputs": [
    {
     "name": "stdout",
     "output_type": "stream",
     "text": [
      "Running eMFDscore\n",
      "Total number of input texts to be scored: 500\n",
      "Scoring completed.\n"
     ]
    },
    {
     "name": "stderr",
     "output_type": "stream",
     "text": [
      "Processed: 500 100% |❤❤❤❤❤❤❤❤❤❤❤❤❤❤❤❤❤❤❤❤| Elapsed Time: 0:00:01 Time:  0:00:01\n"
     ]
    }
   ],
   "source": [
    "%%bash\n",
    "emfdscore template_input.csv all-sent.csv bow emfd all sentiment"
   ]
  },
  {
   "cell_type": "code",
   "execution_count": 4,
   "metadata": {},
   "outputs": [
    {
     "data": {
      "text/html": [
       "<div>\n",
       "<style scoped>\n",
       "    .dataframe tbody tr th:only-of-type {\n",
       "        vertical-align: middle;\n",
       "    }\n",
       "\n",
       "    .dataframe tbody tr th {\n",
       "        vertical-align: top;\n",
       "    }\n",
       "\n",
       "    .dataframe thead th {\n",
       "        text-align: right;\n",
       "    }\n",
       "</style>\n",
       "<table border=\"1\" class=\"dataframe\">\n",
       "  <thead>\n",
       "    <tr style=\"text-align: right;\">\n",
       "      <th></th>\n",
       "      <th>care_p</th>\n",
       "      <th>fairness_p</th>\n",
       "      <th>loyalty_p</th>\n",
       "      <th>authority_p</th>\n",
       "      <th>sanctity_p</th>\n",
       "      <th>care_sent</th>\n",
       "      <th>fairness_sent</th>\n",
       "      <th>loyalty_sent</th>\n",
       "      <th>authority_sent</th>\n",
       "      <th>sanctity_sent</th>\n",
       "      <th>moral_nonmoral_ratio</th>\n",
       "      <th>f_var</th>\n",
       "      <th>sent_var</th>\n",
       "    </tr>\n",
       "  </thead>\n",
       "  <tbody>\n",
       "    <tr>\n",
       "      <th>0</th>\n",
       "      <td>0.135488</td>\n",
       "      <td>0.103978</td>\n",
       "      <td>0.097914</td>\n",
       "      <td>0.104486</td>\n",
       "      <td>0.083446</td>\n",
       "      <td>-0.151964</td>\n",
       "      <td>-0.122982</td>\n",
       "      <td>-0.101907</td>\n",
       "      <td>-0.102609</td>\n",
       "      <td>-0.110386</td>\n",
       "      <td>2.387500</td>\n",
       "      <td>0.000361</td>\n",
       "      <td>0.000433</td>\n",
       "    </tr>\n",
       "    <tr>\n",
       "      <th>1</th>\n",
       "      <td>0.112714</td>\n",
       "      <td>0.087392</td>\n",
       "      <td>0.090776</td>\n",
       "      <td>0.098351</td>\n",
       "      <td>0.069435</td>\n",
       "      <td>-0.143459</td>\n",
       "      <td>-0.061835</td>\n",
       "      <td>-0.046722</td>\n",
       "      <td>-0.064888</td>\n",
       "      <td>-0.088798</td>\n",
       "      <td>1.669903</td>\n",
       "      <td>0.000250</td>\n",
       "      <td>0.001441</td>\n",
       "    </tr>\n",
       "    <tr>\n",
       "      <th>2</th>\n",
       "      <td>0.114769</td>\n",
       "      <td>0.103932</td>\n",
       "      <td>0.094078</td>\n",
       "      <td>0.096782</td>\n",
       "      <td>0.089199</td>\n",
       "      <td>-0.157342</td>\n",
       "      <td>-0.132494</td>\n",
       "      <td>-0.074078</td>\n",
       "      <td>-0.091602</td>\n",
       "      <td>-0.098686</td>\n",
       "      <td>0.791411</td>\n",
       "      <td>0.000099</td>\n",
       "      <td>0.001125</td>\n",
       "    </tr>\n",
       "    <tr>\n",
       "      <th>3</th>\n",
       "      <td>0.090146</td>\n",
       "      <td>0.085675</td>\n",
       "      <td>0.086087</td>\n",
       "      <td>0.092897</td>\n",
       "      <td>0.070704</td>\n",
       "      <td>-0.069739</td>\n",
       "      <td>-0.013825</td>\n",
       "      <td>0.019261</td>\n",
       "      <td>-0.030559</td>\n",
       "      <td>-0.051676</td>\n",
       "      <td>1.045161</td>\n",
       "      <td>0.000074</td>\n",
       "      <td>0.001184</td>\n",
       "    </tr>\n",
       "    <tr>\n",
       "      <th>4</th>\n",
       "      <td>0.093715</td>\n",
       "      <td>0.088627</td>\n",
       "      <td>0.094254</td>\n",
       "      <td>0.094601</td>\n",
       "      <td>0.070870</td>\n",
       "      <td>-0.109248</td>\n",
       "      <td>-0.057367</td>\n",
       "      <td>-0.013941</td>\n",
       "      <td>-0.037166</td>\n",
       "      <td>-0.086024</td>\n",
       "      <td>1.464481</td>\n",
       "      <td>0.000102</td>\n",
       "      <td>0.001437</td>\n",
       "    </tr>\n",
       "  </tbody>\n",
       "</table>\n",
       "</div>"
      ],
      "text/plain": [
       "     care_p  fairness_p  loyalty_p  authority_p  sanctity_p  care_sent  \\\n",
       "0  0.135488    0.103978   0.097914     0.104486    0.083446  -0.151964   \n",
       "1  0.112714    0.087392   0.090776     0.098351    0.069435  -0.143459   \n",
       "2  0.114769    0.103932   0.094078     0.096782    0.089199  -0.157342   \n",
       "3  0.090146    0.085675   0.086087     0.092897    0.070704  -0.069739   \n",
       "4  0.093715    0.088627   0.094254     0.094601    0.070870  -0.109248   \n",
       "\n",
       "   fairness_sent  loyalty_sent  authority_sent  sanctity_sent  \\\n",
       "0      -0.122982     -0.101907       -0.102609      -0.110386   \n",
       "1      -0.061835     -0.046722       -0.064888      -0.088798   \n",
       "2      -0.132494     -0.074078       -0.091602      -0.098686   \n",
       "3      -0.013825      0.019261       -0.030559      -0.051676   \n",
       "4      -0.057367     -0.013941       -0.037166      -0.086024   \n",
       "\n",
       "   moral_nonmoral_ratio     f_var  sent_var  \n",
       "0              2.387500  0.000361  0.000433  \n",
       "1              1.669903  0.000250  0.001441  \n",
       "2              0.791411  0.000099  0.001125  \n",
       "3              1.045161  0.000074  0.001184  \n",
       "4              1.464481  0.000102  0.001437  "
      ]
     },
     "execution_count": 4,
     "metadata": {},
     "output_type": "execute_result"
    }
   ],
   "source": [
    "# Inspect output \n",
    "all_sent = pd.read_csv('all-sent.csv')\n",
    "all_sent.head()"
   ]
  },
  {
   "cell_type": "markdown",
   "metadata": {},
   "source": [
    "As the above dataframe illustrates, each document is assigned 5 foundation probabilities that  \n",
    "denote the average probabilty of each document belonging to one of the five moral foundations and  \n",
    "5 sentiment scores that describe the average sentiment of detected moral words for that foundation."
   ]
  },
  {
   "cell_type": "markdown",
   "metadata": {},
   "source": [
    "***"
   ]
  },
  {
   "cell_type": "markdown",
   "metadata": {},
   "source": [
    "#### 2. Assign Single Probability per Word and Return Sentiment Scores "
   ]
  },
  {
   "cell_type": "code",
   "execution_count": 5,
   "metadata": {},
   "outputs": [
    {
     "name": "stdout",
     "output_type": "stream",
     "text": [
      "Running eMFDscore\n",
      "Total number of input texts to be scored: 500\n",
      "Scoring completed.\n"
     ]
    },
    {
     "name": "stderr",
     "output_type": "stream",
     "text": [
      "Processed: 500 100% |❤❤❤❤❤❤❤❤❤❤❤❤❤❤❤❤❤❤❤❤| Elapsed Time: 0:00:01 Time:  0:00:01\n"
     ]
    }
   ],
   "source": [
    "%%bash\n",
    "emfdscore template_input.csv single-sent.csv bow emfd single sentiment"
   ]
  },
  {
   "cell_type": "code",
   "execution_count": 6,
   "metadata": {},
   "outputs": [
    {
     "data": {
      "text/html": [
       "<div>\n",
       "<style scoped>\n",
       "    .dataframe tbody tr th:only-of-type {\n",
       "        vertical-align: middle;\n",
       "    }\n",
       "\n",
       "    .dataframe tbody tr th {\n",
       "        vertical-align: top;\n",
       "    }\n",
       "\n",
       "    .dataframe thead th {\n",
       "        text-align: right;\n",
       "    }\n",
       "</style>\n",
       "<table border=\"1\" class=\"dataframe\">\n",
       "  <thead>\n",
       "    <tr style=\"text-align: right;\">\n",
       "      <th></th>\n",
       "      <th>care_p</th>\n",
       "      <th>fairness_p</th>\n",
       "      <th>loyalty_p</th>\n",
       "      <th>authority_p</th>\n",
       "      <th>sanctity_p</th>\n",
       "      <th>care_sent</th>\n",
       "      <th>fairness_sent</th>\n",
       "      <th>loyalty_sent</th>\n",
       "      <th>authority_sent</th>\n",
       "      <th>sanctity_sent</th>\n",
       "      <th>moral_nonmoral_ratio</th>\n",
       "      <th>f_var</th>\n",
       "      <th>sent_var</th>\n",
       "    </tr>\n",
       "  </thead>\n",
       "  <tbody>\n",
       "    <tr>\n",
       "      <th>0</th>\n",
       "      <td>0.088788</td>\n",
       "      <td>0.026378</td>\n",
       "      <td>0.020938</td>\n",
       "      <td>0.033572</td>\n",
       "      <td>0.001886</td>\n",
       "      <td>-0.096150</td>\n",
       "      <td>-0.014843</td>\n",
       "      <td>0.002424</td>\n",
       "      <td>-0.020187</td>\n",
       "      <td>-0.000432</td>\n",
       "      <td>1.509259</td>\n",
       "      <td>0.001065</td>\n",
       "      <td>0.001635</td>\n",
       "    </tr>\n",
       "    <tr>\n",
       "      <th>1</th>\n",
       "      <td>0.067428</td>\n",
       "      <td>0.016012</td>\n",
       "      <td>0.029967</td>\n",
       "      <td>0.030282</td>\n",
       "      <td>0.002673</td>\n",
       "      <td>-0.087615</td>\n",
       "      <td>-0.003575</td>\n",
       "      <td>-0.012825</td>\n",
       "      <td>-0.016179</td>\n",
       "      <td>-0.002077</td>\n",
       "      <td>1.291667</td>\n",
       "      <td>0.000585</td>\n",
       "      <td>0.001282</td>\n",
       "    </tr>\n",
       "    <tr>\n",
       "      <th>2</th>\n",
       "      <td>0.060973</td>\n",
       "      <td>0.036366</td>\n",
       "      <td>0.022792</td>\n",
       "      <td>0.019929</td>\n",
       "      <td>0.015618</td>\n",
       "      <td>-0.100764</td>\n",
       "      <td>-0.014213</td>\n",
       "      <td>-0.003453</td>\n",
       "      <td>-0.016674</td>\n",
       "      <td>-0.016593</td>\n",
       "      <td>0.659091</td>\n",
       "      <td>0.000338</td>\n",
       "      <td>0.001580</td>\n",
       "    </tr>\n",
       "    <tr>\n",
       "      <th>3</th>\n",
       "      <td>0.025224</td>\n",
       "      <td>0.025590</td>\n",
       "      <td>0.020565</td>\n",
       "      <td>0.042572</td>\n",
       "      <td>0.013540</td>\n",
       "      <td>-0.029204</td>\n",
       "      <td>0.003379</td>\n",
       "      <td>0.006254</td>\n",
       "      <td>0.002663</td>\n",
       "      <td>-0.005585</td>\n",
       "      <td>0.898204</td>\n",
       "      <td>0.000115</td>\n",
       "      <td>0.000210</td>\n",
       "    </tr>\n",
       "    <tr>\n",
       "      <th>4</th>\n",
       "      <td>0.035540</td>\n",
       "      <td>0.029194</td>\n",
       "      <td>0.028405</td>\n",
       "      <td>0.040799</td>\n",
       "      <td>0.005458</td>\n",
       "      <td>-0.032204</td>\n",
       "      <td>-0.019700</td>\n",
       "      <td>0.003737</td>\n",
       "      <td>-0.004141</td>\n",
       "      <td>-0.001837</td>\n",
       "      <td>1.117371</td>\n",
       "      <td>0.000183</td>\n",
       "      <td>0.000218</td>\n",
       "    </tr>\n",
       "  </tbody>\n",
       "</table>\n",
       "</div>"
      ],
      "text/plain": [
       "     care_p  fairness_p  loyalty_p  authority_p  sanctity_p  care_sent  \\\n",
       "0  0.088788    0.026378   0.020938     0.033572    0.001886  -0.096150   \n",
       "1  0.067428    0.016012   0.029967     0.030282    0.002673  -0.087615   \n",
       "2  0.060973    0.036366   0.022792     0.019929    0.015618  -0.100764   \n",
       "3  0.025224    0.025590   0.020565     0.042572    0.013540  -0.029204   \n",
       "4  0.035540    0.029194   0.028405     0.040799    0.005458  -0.032204   \n",
       "\n",
       "   fairness_sent  loyalty_sent  authority_sent  sanctity_sent  \\\n",
       "0      -0.014843      0.002424       -0.020187      -0.000432   \n",
       "1      -0.003575     -0.012825       -0.016179      -0.002077   \n",
       "2      -0.014213     -0.003453       -0.016674      -0.016593   \n",
       "3       0.003379      0.006254        0.002663      -0.005585   \n",
       "4      -0.019700      0.003737       -0.004141      -0.001837   \n",
       "\n",
       "   moral_nonmoral_ratio     f_var  sent_var  \n",
       "0              1.509259  0.001065  0.001635  \n",
       "1              1.291667  0.000585  0.001282  \n",
       "2              0.659091  0.000338  0.001580  \n",
       "3              0.898204  0.000115  0.000210  \n",
       "4              1.117371  0.000183  0.000218  "
      ]
     },
     "execution_count": 6,
     "metadata": {},
     "output_type": "execute_result"
    }
   ],
   "source": [
    "# Inspect output \n",
    "single_sent = pd.read_csv('single-sent.csv')\n",
    "single_sent.head()"
   ]
  },
  {
   "cell_type": "markdown",
   "metadata": {},
   "source": [
    "Here, the returned output is the same as in option (1) above, although every word was assigned  \n",
    "only one probability score when scoring the document. "
   ]
  },
  {
   "cell_type": "markdown",
   "metadata": {},
   "source": [
    "***"
   ]
  },
  {
   "cell_type": "markdown",
   "metadata": {},
   "source": [
    "#### 3. Use All Probabilities per Word and Return Vice-Virtue Scores"
   ]
  },
  {
   "cell_type": "code",
   "execution_count": 7,
   "metadata": {},
   "outputs": [
    {
     "name": "stdout",
     "output_type": "stream",
     "text": [
      "Running eMFDscore\n",
      "Total number of input texts to be scored: 500\n",
      "Scoring completed.\n"
     ]
    },
    {
     "name": "stderr",
     "output_type": "stream",
     "text": [
      "Processed: 500 100% |❤❤❤❤❤❤❤❤❤❤❤❤❤❤❤❤❤❤❤❤| Elapsed Time: 0:00:01 Time:  0:00:01\n"
     ]
    }
   ],
   "source": [
    "%%bash\n",
    "emfdscore template_input.csv all-vv.csv bow emfd all vice-virtue"
   ]
  },
  {
   "cell_type": "code",
   "execution_count": 8,
   "metadata": {},
   "outputs": [
    {
     "data": {
      "text/html": [
       "<div>\n",
       "<style scoped>\n",
       "    .dataframe tbody tr th:only-of-type {\n",
       "        vertical-align: middle;\n",
       "    }\n",
       "\n",
       "    .dataframe tbody tr th {\n",
       "        vertical-align: top;\n",
       "    }\n",
       "\n",
       "    .dataframe thead th {\n",
       "        text-align: right;\n",
       "    }\n",
       "</style>\n",
       "<table border=\"1\" class=\"dataframe\">\n",
       "  <thead>\n",
       "    <tr style=\"text-align: right;\">\n",
       "      <th></th>\n",
       "      <th>care.virtue</th>\n",
       "      <th>fairness.virtue</th>\n",
       "      <th>loyalty.virtue</th>\n",
       "      <th>authority.virtue</th>\n",
       "      <th>sanctity.virtue</th>\n",
       "      <th>care.vice</th>\n",
       "      <th>fairness.vice</th>\n",
       "      <th>loyalty.vice</th>\n",
       "      <th>authority.vice</th>\n",
       "      <th>sanctity.vice</th>\n",
       "      <th>moral_nonmoral_ratio</th>\n",
       "      <th>f_var</th>\n",
       "    </tr>\n",
       "  </thead>\n",
       "  <tbody>\n",
       "    <tr>\n",
       "      <th>0</th>\n",
       "      <td>0.023324</td>\n",
       "      <td>0.021518</td>\n",
       "      <td>0.034138</td>\n",
       "      <td>0.023016</td>\n",
       "      <td>0.019717</td>\n",
       "      <td>0.122444</td>\n",
       "      <td>0.086552</td>\n",
       "      <td>0.068881</td>\n",
       "      <td>0.086203</td>\n",
       "      <td>0.065338</td>\n",
       "      <td>1.509259</td>\n",
       "      <td>0.001294</td>\n",
       "    </tr>\n",
       "    <tr>\n",
       "      <th>1</th>\n",
       "      <td>0.021756</td>\n",
       "      <td>0.031042</td>\n",
       "      <td>0.033684</td>\n",
       "      <td>0.032437</td>\n",
       "      <td>0.030002</td>\n",
       "      <td>0.094288</td>\n",
       "      <td>0.058051</td>\n",
       "      <td>0.059334</td>\n",
       "      <td>0.068387</td>\n",
       "      <td>0.038686</td>\n",
       "      <td>1.291667</td>\n",
       "      <td>0.000512</td>\n",
       "    </tr>\n",
       "    <tr>\n",
       "      <th>2</th>\n",
       "      <td>0.020575</td>\n",
       "      <td>0.026964</td>\n",
       "      <td>0.027986</td>\n",
       "      <td>0.028144</td>\n",
       "      <td>0.025871</td>\n",
       "      <td>0.097209</td>\n",
       "      <td>0.078794</td>\n",
       "      <td>0.065219</td>\n",
       "      <td>0.065422</td>\n",
       "      <td>0.063675</td>\n",
       "      <td>0.659091</td>\n",
       "      <td>0.000739</td>\n",
       "    </tr>\n",
       "    <tr>\n",
       "      <th>3</th>\n",
       "      <td>0.025263</td>\n",
       "      <td>0.038378</td>\n",
       "      <td>0.042781</td>\n",
       "      <td>0.036206</td>\n",
       "      <td>0.030563</td>\n",
       "      <td>0.065749</td>\n",
       "      <td>0.046853</td>\n",
       "      <td>0.043813</td>\n",
       "      <td>0.058025</td>\n",
       "      <td>0.040180</td>\n",
       "      <td>0.898204</td>\n",
       "      <td>0.000145</td>\n",
       "    </tr>\n",
       "    <tr>\n",
       "      <th>4</th>\n",
       "      <td>0.022170</td>\n",
       "      <td>0.034705</td>\n",
       "      <td>0.044036</td>\n",
       "      <td>0.049513</td>\n",
       "      <td>0.025259</td>\n",
       "      <td>0.072497</td>\n",
       "      <td>0.054644</td>\n",
       "      <td>0.052106</td>\n",
       "      <td>0.047333</td>\n",
       "      <td>0.046105</td>\n",
       "      <td>1.117371</td>\n",
       "      <td>0.000216</td>\n",
       "    </tr>\n",
       "  </tbody>\n",
       "</table>\n",
       "</div>"
      ],
      "text/plain": [
       "   care.virtue  fairness.virtue  loyalty.virtue  authority.virtue  \\\n",
       "0     0.023324         0.021518        0.034138          0.023016   \n",
       "1     0.021756         0.031042        0.033684          0.032437   \n",
       "2     0.020575         0.026964        0.027986          0.028144   \n",
       "3     0.025263         0.038378        0.042781          0.036206   \n",
       "4     0.022170         0.034705        0.044036          0.049513   \n",
       "\n",
       "   sanctity.virtue  care.vice  fairness.vice  loyalty.vice  authority.vice  \\\n",
       "0         0.019717   0.122444       0.086552      0.068881        0.086203   \n",
       "1         0.030002   0.094288       0.058051      0.059334        0.068387   \n",
       "2         0.025871   0.097209       0.078794      0.065219        0.065422   \n",
       "3         0.030563   0.065749       0.046853      0.043813        0.058025   \n",
       "4         0.025259   0.072497       0.054644      0.052106        0.047333   \n",
       "\n",
       "   sanctity.vice  moral_nonmoral_ratio     f_var  \n",
       "0       0.065338              1.509259  0.001294  \n",
       "1       0.038686              1.291667  0.000512  \n",
       "2       0.063675              0.659091  0.000739  \n",
       "3       0.040180              0.898204  0.000145  \n",
       "4       0.046105              1.117371  0.000216  "
      ]
     },
     "execution_count": 8,
     "metadata": {},
     "output_type": "execute_result"
    }
   ],
   "source": [
    "# Inspect output \n",
    "all_vv = pd.read_csv('all-vv.csv')\n",
    "all_vv.head()"
   ]
  },
  {
   "cell_type": "markdown",
   "metadata": {},
   "source": [
    "As this output illustrates, each document is assigned 10 foundation scores that indicate the degree to which  \n",
    "each document reflects either a `virtue` or a `vice` foundation. In this option, every word in the eMFD is assigned  \n",
    "five probability scores when scoring the document. \n"
   ]
  },
  {
   "cell_type": "markdown",
   "metadata": {},
   "source": [
    "***"
   ]
  },
  {
   "cell_type": "markdown",
   "metadata": {},
   "source": [
    "#### 4. Assign Single Probability per Word and Return Vice-Virtue Scores"
   ]
  },
  {
   "cell_type": "code",
   "execution_count": 9,
   "metadata": {},
   "outputs": [
    {
     "name": "stdout",
     "output_type": "stream",
     "text": [
      "Running eMFDscore\n",
      "Total number of input texts to be scored: 500\n",
      "Scoring completed.\n"
     ]
    },
    {
     "name": "stderr",
     "output_type": "stream",
     "text": [
      "Processed: 500 100% |❤❤❤❤❤❤❤❤❤❤❤❤❤❤❤❤❤❤❤❤| Elapsed Time: 0:00:01 Time:  0:00:01\n"
     ]
    }
   ],
   "source": [
    "%%bash\n",
    "emfdscore template_input.csv single-vv.csv bow emfd single vice-virtue"
   ]
  },
  {
   "cell_type": "code",
   "execution_count": 10,
   "metadata": {},
   "outputs": [
    {
     "data": {
      "text/html": [
       "<div>\n",
       "<style scoped>\n",
       "    .dataframe tbody tr th:only-of-type {\n",
       "        vertical-align: middle;\n",
       "    }\n",
       "\n",
       "    .dataframe tbody tr th {\n",
       "        vertical-align: top;\n",
       "    }\n",
       "\n",
       "    .dataframe thead th {\n",
       "        text-align: right;\n",
       "    }\n",
       "</style>\n",
       "<table border=\"1\" class=\"dataframe\">\n",
       "  <thead>\n",
       "    <tr style=\"text-align: right;\">\n",
       "      <th></th>\n",
       "      <th>care.virtue</th>\n",
       "      <th>fairness.virtue</th>\n",
       "      <th>loyalty.virtue</th>\n",
       "      <th>authority.virtue</th>\n",
       "      <th>sanctity.virtue</th>\n",
       "      <th>care.vice</th>\n",
       "      <th>fairness.vice</th>\n",
       "      <th>loyalty.vice</th>\n",
       "      <th>authority.vice</th>\n",
       "      <th>sanctity.vice</th>\n",
       "      <th>moral_nonmoral_ratio</th>\n",
       "      <th>f_var</th>\n",
       "    </tr>\n",
       "  </thead>\n",
       "  <tbody>\n",
       "    <tr>\n",
       "      <th>0</th>\n",
       "      <td>0.011777</td>\n",
       "      <td>0.005575</td>\n",
       "      <td>0.011345</td>\n",
       "      <td>0.005844</td>\n",
       "      <td>0.000000</td>\n",
       "      <td>0.077011</td>\n",
       "      <td>0.020803</td>\n",
       "      <td>0.009593</td>\n",
       "      <td>0.027727</td>\n",
       "      <td>0.001886</td>\n",
       "      <td>1.509259</td>\n",
       "      <td>0.000513</td>\n",
       "    </tr>\n",
       "    <tr>\n",
       "      <th>1</th>\n",
       "      <td>0.006097</td>\n",
       "      <td>0.005595</td>\n",
       "      <td>0.005071</td>\n",
       "      <td>0.007697</td>\n",
       "      <td>0.000896</td>\n",
       "      <td>0.061330</td>\n",
       "      <td>0.010417</td>\n",
       "      <td>0.024896</td>\n",
       "      <td>0.022585</td>\n",
       "      <td>0.001777</td>\n",
       "      <td>1.291667</td>\n",
       "      <td>0.000335</td>\n",
       "    </tr>\n",
       "    <tr>\n",
       "      <th>2</th>\n",
       "      <td>0.003295</td>\n",
       "      <td>0.012244</td>\n",
       "      <td>0.007719</td>\n",
       "      <td>0.002718</td>\n",
       "      <td>0.002210</td>\n",
       "      <td>0.057678</td>\n",
       "      <td>0.024122</td>\n",
       "      <td>0.015074</td>\n",
       "      <td>0.017212</td>\n",
       "      <td>0.013408</td>\n",
       "      <td>0.659091</td>\n",
       "      <td>0.000269</td>\n",
       "    </tr>\n",
       "    <tr>\n",
       "      <th>3</th>\n",
       "      <td>0.003299</td>\n",
       "      <td>0.014116</td>\n",
       "      <td>0.010671</td>\n",
       "      <td>0.014625</td>\n",
       "      <td>0.002420</td>\n",
       "      <td>0.021925</td>\n",
       "      <td>0.011474</td>\n",
       "      <td>0.009894</td>\n",
       "      <td>0.027947</td>\n",
       "      <td>0.011120</td>\n",
       "      <td>0.898204</td>\n",
       "      <td>0.000059</td>\n",
       "    </tr>\n",
       "    <tr>\n",
       "      <th>4</th>\n",
       "      <td>0.008514</td>\n",
       "      <td>0.009756</td>\n",
       "      <td>0.012192</td>\n",
       "      <td>0.024760</td>\n",
       "      <td>0.002935</td>\n",
       "      <td>0.027025</td>\n",
       "      <td>0.019437</td>\n",
       "      <td>0.016212</td>\n",
       "      <td>0.016039</td>\n",
       "      <td>0.002523</td>\n",
       "      <td>1.117371</td>\n",
       "      <td>0.000070</td>\n",
       "    </tr>\n",
       "  </tbody>\n",
       "</table>\n",
       "</div>"
      ],
      "text/plain": [
       "   care.virtue  fairness.virtue  loyalty.virtue  authority.virtue  \\\n",
       "0     0.011777         0.005575        0.011345          0.005844   \n",
       "1     0.006097         0.005595        0.005071          0.007697   \n",
       "2     0.003295         0.012244        0.007719          0.002718   \n",
       "3     0.003299         0.014116        0.010671          0.014625   \n",
       "4     0.008514         0.009756        0.012192          0.024760   \n",
       "\n",
       "   sanctity.virtue  care.vice  fairness.vice  loyalty.vice  authority.vice  \\\n",
       "0         0.000000   0.077011       0.020803      0.009593        0.027727   \n",
       "1         0.000896   0.061330       0.010417      0.024896        0.022585   \n",
       "2         0.002210   0.057678       0.024122      0.015074        0.017212   \n",
       "3         0.002420   0.021925       0.011474      0.009894        0.027947   \n",
       "4         0.002935   0.027025       0.019437      0.016212        0.016039   \n",
       "\n",
       "   sanctity.vice  moral_nonmoral_ratio     f_var  \n",
       "0       0.001886              1.509259  0.000513  \n",
       "1       0.001777              1.291667  0.000335  \n",
       "2       0.013408              0.659091  0.000269  \n",
       "3       0.011120              0.898204  0.000059  \n",
       "4       0.002523              1.117371  0.000070  "
      ]
     },
     "execution_count": 10,
     "metadata": {},
     "output_type": "execute_result"
    }
   ],
   "source": [
    "# Inspect output \n",
    "single_vv = pd.read_csv('single-vv.csv')\n",
    "single_vv.head()"
   ]
  },
  {
   "cell_type": "markdown",
   "metadata": {},
   "source": [
    "This output is similar to option (3), although in this approach, every word in the eMFD was assigned only  \n",
    "one score according to the foundation with the highest probability. "
   ]
  },
  {
   "cell_type": "markdown",
   "metadata": {},
   "source": [
    "***"
   ]
  },
  {
   "cell_type": "markdown",
   "metadata": {},
   "source": [
    "#### Scoring Documents with the MFD2"
   ]
  },
  {
   "cell_type": "code",
   "execution_count": 11,
   "metadata": {},
   "outputs": [
    {
     "name": "stdout",
     "output_type": "stream",
     "text": [
      "Running eMFDscore\n",
      "Total number of input texts to be scored: 500\n",
      "Scoring completed.\n"
     ]
    },
    {
     "name": "stderr",
     "output_type": "stream",
     "text": [
      "Processed: 500 100% |❤❤❤❤❤❤❤❤❤❤❤❤❤❤❤❤❤❤❤❤| Elapsed Time: 0:00:01 Time:  0:00:01\n"
     ]
    }
   ],
   "source": [
    "%%bash\n",
    "emfdscore template_input.csv mfd2.csv bow mfd2"
   ]
  },
  {
   "cell_type": "code",
   "execution_count": 12,
   "metadata": {},
   "outputs": [
    {
     "data": {
      "text/html": [
       "<div>\n",
       "<style scoped>\n",
       "    .dataframe tbody tr th:only-of-type {\n",
       "        vertical-align: middle;\n",
       "    }\n",
       "\n",
       "    .dataframe tbody tr th {\n",
       "        vertical-align: top;\n",
       "    }\n",
       "\n",
       "    .dataframe thead th {\n",
       "        text-align: right;\n",
       "    }\n",
       "</style>\n",
       "<table border=\"1\" class=\"dataframe\">\n",
       "  <thead>\n",
       "    <tr style=\"text-align: right;\">\n",
       "      <th></th>\n",
       "      <th>care.virtue</th>\n",
       "      <th>care.vice</th>\n",
       "      <th>authority.virtue</th>\n",
       "      <th>fairness.vice</th>\n",
       "      <th>fairness.virtue</th>\n",
       "      <th>loyalty.vice</th>\n",
       "      <th>loyalty.virtue</th>\n",
       "      <th>sanctity.virtue</th>\n",
       "      <th>authority.vice</th>\n",
       "      <th>sanctity.vice</th>\n",
       "      <th>moral_nonmoral_ratio</th>\n",
       "      <th>f_var</th>\n",
       "    </tr>\n",
       "  </thead>\n",
       "  <tbody>\n",
       "    <tr>\n",
       "      <th>0</th>\n",
       "      <td>0.142857</td>\n",
       "      <td>0.642857</td>\n",
       "      <td>0.071429</td>\n",
       "      <td>0.00</td>\n",
       "      <td>0.000000</td>\n",
       "      <td>0.0</td>\n",
       "      <td>0.071429</td>\n",
       "      <td>0.071429</td>\n",
       "      <td>0.000000</td>\n",
       "      <td>0.0</td>\n",
       "      <td>0.054475</td>\n",
       "      <td>0.038776</td>\n",
       "    </tr>\n",
       "    <tr>\n",
       "      <th>1</th>\n",
       "      <td>0.000000</td>\n",
       "      <td>0.272727</td>\n",
       "      <td>0.454545</td>\n",
       "      <td>0.00</td>\n",
       "      <td>0.000000</td>\n",
       "      <td>0.0</td>\n",
       "      <td>0.272727</td>\n",
       "      <td>0.000000</td>\n",
       "      <td>0.000000</td>\n",
       "      <td>0.0</td>\n",
       "      <td>0.041667</td>\n",
       "      <td>0.028375</td>\n",
       "    </tr>\n",
       "    <tr>\n",
       "      <th>2</th>\n",
       "      <td>0.050000</td>\n",
       "      <td>0.300000</td>\n",
       "      <td>0.100000</td>\n",
       "      <td>0.05</td>\n",
       "      <td>0.100000</td>\n",
       "      <td>0.0</td>\n",
       "      <td>0.200000</td>\n",
       "      <td>0.000000</td>\n",
       "      <td>0.000000</td>\n",
       "      <td>0.2</td>\n",
       "      <td>0.073529</td>\n",
       "      <td>0.010556</td>\n",
       "    </tr>\n",
       "    <tr>\n",
       "      <th>3</th>\n",
       "      <td>0.000000</td>\n",
       "      <td>0.000000</td>\n",
       "      <td>0.333333</td>\n",
       "      <td>0.00</td>\n",
       "      <td>0.000000</td>\n",
       "      <td>0.0</td>\n",
       "      <td>0.444444</td>\n",
       "      <td>0.000000</td>\n",
       "      <td>0.222222</td>\n",
       "      <td>0.0</td>\n",
       "      <td>0.029221</td>\n",
       "      <td>0.028669</td>\n",
       "    </tr>\n",
       "    <tr>\n",
       "      <th>4</th>\n",
       "      <td>0.000000</td>\n",
       "      <td>0.068966</td>\n",
       "      <td>0.517241</td>\n",
       "      <td>0.00</td>\n",
       "      <td>0.034483</td>\n",
       "      <td>0.0</td>\n",
       "      <td>0.379310</td>\n",
       "      <td>0.000000</td>\n",
       "      <td>0.000000</td>\n",
       "      <td>0.0</td>\n",
       "      <td>0.068720</td>\n",
       "      <td>0.035262</td>\n",
       "    </tr>\n",
       "  </tbody>\n",
       "</table>\n",
       "</div>"
      ],
      "text/plain": [
       "   care.virtue  care.vice  authority.virtue  fairness.vice  fairness.virtue  \\\n",
       "0     0.142857   0.642857          0.071429           0.00         0.000000   \n",
       "1     0.000000   0.272727          0.454545           0.00         0.000000   \n",
       "2     0.050000   0.300000          0.100000           0.05         0.100000   \n",
       "3     0.000000   0.000000          0.333333           0.00         0.000000   \n",
       "4     0.000000   0.068966          0.517241           0.00         0.034483   \n",
       "\n",
       "   loyalty.vice  loyalty.virtue  sanctity.virtue  authority.vice  \\\n",
       "0           0.0        0.071429         0.071429        0.000000   \n",
       "1           0.0        0.272727         0.000000        0.000000   \n",
       "2           0.0        0.200000         0.000000        0.000000   \n",
       "3           0.0        0.444444         0.000000        0.222222   \n",
       "4           0.0        0.379310         0.000000        0.000000   \n",
       "\n",
       "   sanctity.vice  moral_nonmoral_ratio     f_var  \n",
       "0            0.0              0.054475  0.038776  \n",
       "1            0.0              0.041667  0.028375  \n",
       "2            0.2              0.073529  0.010556  \n",
       "3            0.0              0.029221  0.028669  \n",
       "4            0.0              0.068720  0.035262  "
      ]
     },
     "execution_count": 12,
     "metadata": {},
     "output_type": "execute_result"
    }
   ],
   "source": [
    "# Inspect output \n",
    "mfd2 = pd.read_csv('mfd2.csv')\n",
    "mfd2.head()"
   ]
  },
  {
   "cell_type": "markdown",
   "metadata": {},
   "source": [
    "As can be seen, the output for the MFD2 is similar to scoring documents with the eMFD  \n",
    "when using the `vice-virtue` output-metric flag. "
   ]
  },
  {
   "cell_type": "markdown",
   "metadata": {},
   "source": [
    "***"
   ]
  },
  {
   "cell_type": "markdown",
   "metadata": {},
   "source": [
    "#### Scoring Documents with the MFD"
   ]
  },
  {
   "cell_type": "code",
   "execution_count": 13,
   "metadata": {},
   "outputs": [
    {
     "name": "stdout",
     "output_type": "stream",
     "text": [
      "Running eMFDscore\n",
      "Total number of input texts to be scored: 500\n",
      "Scoring completed.\n"
     ]
    },
    {
     "name": "stderr",
     "output_type": "stream",
     "text": [
      "Processed: 500 100% |❤❤❤❤❤❤❤❤❤❤❤❤❤❤❤❤❤❤❤❤| Elapsed Time: 0:00:14 Time:  0:00:14\n"
     ]
    }
   ],
   "source": [
    "%%bash\n",
    "emfdscore template_input.csv mfd.csv bow mfd"
   ]
  },
  {
   "cell_type": "code",
   "execution_count": 14,
   "metadata": {},
   "outputs": [
    {
     "data": {
      "text/html": [
       "<div>\n",
       "<style scoped>\n",
       "    .dataframe tbody tr th:only-of-type {\n",
       "        vertical-align: middle;\n",
       "    }\n",
       "\n",
       "    .dataframe tbody tr th {\n",
       "        vertical-align: top;\n",
       "    }\n",
       "\n",
       "    .dataframe thead th {\n",
       "        text-align: right;\n",
       "    }\n",
       "</style>\n",
       "<table border=\"1\" class=\"dataframe\">\n",
       "  <thead>\n",
       "    <tr style=\"text-align: right;\">\n",
       "      <th></th>\n",
       "      <th>care.virtue</th>\n",
       "      <th>care.vice</th>\n",
       "      <th>authority.virtue</th>\n",
       "      <th>fairness.vice</th>\n",
       "      <th>fairness.virtue</th>\n",
       "      <th>loyalty.vice</th>\n",
       "      <th>loyalty.virtue</th>\n",
       "      <th>sanctity.virtue</th>\n",
       "      <th>authority.vice</th>\n",
       "      <th>sanctity.vice</th>\n",
       "      <th>moral_nonmoral_ratio</th>\n",
       "      <th>f_var</th>\n",
       "    </tr>\n",
       "  </thead>\n",
       "  <tbody>\n",
       "    <tr>\n",
       "      <th>0</th>\n",
       "      <td>0.142857</td>\n",
       "      <td>0.642857</td>\n",
       "      <td>0.071429</td>\n",
       "      <td>0.00</td>\n",
       "      <td>0.000000</td>\n",
       "      <td>0.0</td>\n",
       "      <td>0.071429</td>\n",
       "      <td>0.071429</td>\n",
       "      <td>0.000000</td>\n",
       "      <td>0.0</td>\n",
       "      <td>0.054475</td>\n",
       "      <td>0.038776</td>\n",
       "    </tr>\n",
       "    <tr>\n",
       "      <th>1</th>\n",
       "      <td>0.000000</td>\n",
       "      <td>0.272727</td>\n",
       "      <td>0.454545</td>\n",
       "      <td>0.00</td>\n",
       "      <td>0.000000</td>\n",
       "      <td>0.0</td>\n",
       "      <td>0.272727</td>\n",
       "      <td>0.000000</td>\n",
       "      <td>0.000000</td>\n",
       "      <td>0.0</td>\n",
       "      <td>0.041667</td>\n",
       "      <td>0.028375</td>\n",
       "    </tr>\n",
       "    <tr>\n",
       "      <th>2</th>\n",
       "      <td>0.050000</td>\n",
       "      <td>0.300000</td>\n",
       "      <td>0.100000</td>\n",
       "      <td>0.05</td>\n",
       "      <td>0.100000</td>\n",
       "      <td>0.0</td>\n",
       "      <td>0.200000</td>\n",
       "      <td>0.000000</td>\n",
       "      <td>0.000000</td>\n",
       "      <td>0.2</td>\n",
       "      <td>0.073529</td>\n",
       "      <td>0.010556</td>\n",
       "    </tr>\n",
       "    <tr>\n",
       "      <th>3</th>\n",
       "      <td>0.000000</td>\n",
       "      <td>0.000000</td>\n",
       "      <td>0.333333</td>\n",
       "      <td>0.00</td>\n",
       "      <td>0.000000</td>\n",
       "      <td>0.0</td>\n",
       "      <td>0.444444</td>\n",
       "      <td>0.000000</td>\n",
       "      <td>0.222222</td>\n",
       "      <td>0.0</td>\n",
       "      <td>0.029221</td>\n",
       "      <td>0.028669</td>\n",
       "    </tr>\n",
       "    <tr>\n",
       "      <th>4</th>\n",
       "      <td>0.000000</td>\n",
       "      <td>0.068966</td>\n",
       "      <td>0.517241</td>\n",
       "      <td>0.00</td>\n",
       "      <td>0.034483</td>\n",
       "      <td>0.0</td>\n",
       "      <td>0.379310</td>\n",
       "      <td>0.000000</td>\n",
       "      <td>0.000000</td>\n",
       "      <td>0.0</td>\n",
       "      <td>0.068720</td>\n",
       "      <td>0.035262</td>\n",
       "    </tr>\n",
       "  </tbody>\n",
       "</table>\n",
       "</div>"
      ],
      "text/plain": [
       "   care.virtue  care.vice  authority.virtue  fairness.vice  fairness.virtue  \\\n",
       "0     0.142857   0.642857          0.071429           0.00         0.000000   \n",
       "1     0.000000   0.272727          0.454545           0.00         0.000000   \n",
       "2     0.050000   0.300000          0.100000           0.05         0.100000   \n",
       "3     0.000000   0.000000          0.333333           0.00         0.000000   \n",
       "4     0.000000   0.068966          0.517241           0.00         0.034483   \n",
       "\n",
       "   loyalty.vice  loyalty.virtue  sanctity.virtue  authority.vice  \\\n",
       "0           0.0        0.071429         0.071429        0.000000   \n",
       "1           0.0        0.272727         0.000000        0.000000   \n",
       "2           0.0        0.200000         0.000000        0.000000   \n",
       "3           0.0        0.444444         0.000000        0.222222   \n",
       "4           0.0        0.379310         0.000000        0.000000   \n",
       "\n",
       "   sanctity.vice  moral_nonmoral_ratio     f_var  \n",
       "0            0.0              0.054475  0.038776  \n",
       "1            0.0              0.041667  0.028375  \n",
       "2            0.2              0.073529  0.010556  \n",
       "3            0.0              0.029221  0.028669  \n",
       "4            0.0              0.068720  0.035262  "
      ]
     },
     "execution_count": 14,
     "metadata": {},
     "output_type": "execute_result"
    }
   ],
   "source": [
    "# Inspect output \n",
    "mfd = pd.read_csv('mfd2.csv')\n",
    "mfd.head()"
   ]
  },
  {
   "cell_type": "markdown",
   "metadata": {},
   "source": [
    "Likewise, the output for the MFD is in the same format as for the MFD2.0."
   ]
  },
  {
   "cell_type": "markdown",
   "metadata": {},
   "source": [
    "***"
   ]
  },
  {
   "cell_type": "markdown",
   "metadata": {},
   "source": [
    "### Questions or Concerns?"
   ]
  },
  {
   "cell_type": "markdown",
   "metadata": {},
   "source": [
    "For any questions or concerns, please open an [issue](https://github.com/medianeuroscience/emfdscore/issues) on the Github repository.  "
   ]
  }
 ],
 "metadata": {
  "kernelspec": {
   "display_name": "Python 3",
   "language": "python",
   "name": "python3"
  },
  "language_info": {
   "codemirror_mode": {
    "name": "ipython",
    "version": 3
   },
   "file_extension": ".py",
   "mimetype": "text/x-python",
   "name": "python",
   "nbconvert_exporter": "python",
   "pygments_lexer": "ipython3",
   "version": "3.7.8"
  }
 },
 "nbformat": 4,
 "nbformat_minor": 4
}
